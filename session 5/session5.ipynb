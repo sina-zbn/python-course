{
 "cells": [
  {
   "cell_type": "code",
   "execution_count": 2,
   "id": "dcb46a86",
   "metadata": {},
   "outputs": [
    {
     "name": "stdout",
     "output_type": "stream",
     "text": [
      "1\n",
      "2\n",
      "3\n",
      "4\n",
      "5\n",
      "6\n",
      "7\n",
      "8\n",
      "9\n",
      "10\n",
      "11\n",
      "12\n",
      "13\n",
      "14\n",
      "15\n",
      "16\n",
      "17\n",
      "18\n",
      "19\n",
      "20\n",
      "21\n",
      "22\n",
      "23\n",
      "24\n",
      "25\n",
      "26\n",
      "27\n",
      "28\n",
      "29\n",
      "30\n",
      "31\n",
      "32\n",
      "33\n",
      "34\n",
      "35\n",
      "36\n",
      "37\n",
      "38\n",
      "39\n",
      "40\n",
      "41\n",
      "42\n",
      "43\n",
      "44\n",
      "45\n",
      "46\n",
      "47\n",
      "48\n",
      "49\n",
      "50\n",
      "51\n",
      "52\n",
      "53\n",
      "54\n",
      "55\n",
      "56\n",
      "57\n",
      "58\n",
      "59\n",
      "60\n",
      "61\n",
      "62\n",
      "63\n",
      "64\n",
      "65\n",
      "66\n",
      "67\n",
      "68\n",
      "69\n",
      "70\n",
      "71\n",
      "72\n",
      "73\n",
      "74\n",
      "75\n",
      "76\n",
      "77\n",
      "78\n",
      "79\n",
      "80\n",
      "81\n",
      "82\n",
      "83\n",
      "84\n",
      "85\n",
      "86\n",
      "87\n",
      "88\n",
      "89\n",
      "90\n",
      "91\n",
      "92\n",
      "93\n",
      "94\n",
      "95\n",
      "96\n",
      "97\n",
      "98\n",
      "99\n",
      "100\n"
     ]
    }
   ],
   "source": [
    "#while\n",
    "\n",
    "a=1\n",
    "\n",
    "while a<=100:\n",
    "    print(a)\n",
    "    a+=1   #a=a+1\n"
   ]
  },
  {
   "cell_type": "code",
   "execution_count": 3,
   "id": "ae36b2f4",
   "metadata": {},
   "outputs": [
    {
     "name": "stdout",
     "output_type": "stream",
     "text": [
      "<class 'list'>\n"
     ]
    }
   ],
   "source": [
    "#list\n",
    "list_=[1,2,3,\"sina\",True,5.6]\n",
    "print(type(list_))"
   ]
  },
  {
   "cell_type": "code",
   "execution_count": 4,
   "id": "8ebfbe86",
   "metadata": {},
   "outputs": [
    {
     "name": "stdout",
     "output_type": "stream",
     "text": [
      "1\n",
      "True\n"
     ]
    },
    {
     "ename": "IndexError",
     "evalue": "list index out of range",
     "output_type": "error",
     "traceback": [
      "\u001b[31m---------------------------------------------------------------------------\u001b[39m",
      "\u001b[31mIndexError\u001b[39m                                Traceback (most recent call last)",
      "\u001b[36mCell\u001b[39m\u001b[36m \u001b[39m\u001b[32mIn[4]\u001b[39m\u001b[32m, line 5\u001b[39m\n\u001b[32m      3\u001b[39m \u001b[38;5;28mprint\u001b[39m(list_[\u001b[32m0\u001b[39m])\n\u001b[32m      4\u001b[39m \u001b[38;5;28mprint\u001b[39m(list_[\u001b[32m4\u001b[39m])\n\u001b[32m----> \u001b[39m\u001b[32m5\u001b[39m \u001b[38;5;28mprint\u001b[39m(\u001b[43mlist_\u001b[49m\u001b[43m[\u001b[49m\u001b[32;43m6\u001b[39;49m\u001b[43m]\u001b[49m)\n",
      "\u001b[31mIndexError\u001b[39m: list index out of range"
     ]
    }
   ],
   "source": [
    "#index\n",
    "\n",
    "print(list_[0])\n",
    "print(list_[4])\n",
    "print(list_[6])"
   ]
  },
  {
   "cell_type": "code",
   "execution_count": 5,
   "id": "fd7eddb6",
   "metadata": {},
   "outputs": [
    {
     "name": "stdout",
     "output_type": "stream",
     "text": [
      "7\n",
      "15\n",
      "1\n",
      "43\n"
     ]
    }
   ],
   "source": [
    "#len, max, min, sum\n",
    "\n",
    "numList=[4,6,10,2,5,1,15]\n",
    "\n",
    "print(len(numList))\n",
    "print(max(numList))\n",
    "print(min(numList))\n",
    "print(sum(numList))"
   ]
  },
  {
   "cell_type": "code",
   "execution_count": 15,
   "id": "42a74209",
   "metadata": {},
   "outputs": [
    {
     "name": "stdout",
     "output_type": "stream",
     "text": [
      "[1, 2, 3, 4] 2178151027776\n",
      "[0, 2, 3, 4] 2178151027776\n"
     ]
    }
   ],
   "source": [
    "#mutable\n",
    "\n",
    "a=[1,2,3,4]\n",
    "\n",
    "print(a,id(a))\n",
    "\n",
    "a[0]=0\n",
    "\n",
    "print(a,id(a))"
   ]
  },
  {
   "cell_type": "code",
   "execution_count": 47,
   "id": "a8eae8e4",
   "metadata": {},
   "outputs": [
    {
     "name": "stdout",
     "output_type": "stream",
     "text": [
      "7\n",
      "6\n",
      "[1, 2, 3, 4]\n",
      "[2, 3, 4, 5]\n",
      "[1, 2, 3, 4, 5, 6]\n",
      "[]\n",
      "[4, 5, 6]\n",
      "[1, 2, 3, 4, 5, 6, 7]\n",
      "[2, 3, 4, 5, 6, 7]\n",
      "[2, 3, 4, 5, 6, 7]\n",
      "[1, 2, 3, 4, 5, 6, 7]\n",
      "[1, 2, 3, 4, 5, 6, 7]\n"
     ]
    }
   ],
   "source": [
    "#index, start, stop\n",
    "\n",
    "numList=[1,2,3,4,5,6,7]\n",
    "\n",
    "print(numList[-1])\n",
    "print(numList[-2])\n",
    "print(numList[0:4])\n",
    "print(numList[1:5])\n",
    "print(numList[0:-1])\n",
    "print(numList[-1:-3])    #start<stop\n",
    "print(numList[3:-1])\n",
    "print(numList[0:7])\n",
    "print(numList[1:len(numList)])\n",
    "print(numList[1:])  \n",
    "print(numList[0:])\n",
    "print(numList[:])"
   ]
  },
  {
   "cell_type": "code",
   "execution_count": null,
   "id": "1c5ed5e1",
   "metadata": {},
   "outputs": [
    {
     "name": "stdout",
     "output_type": "stream",
     "text": [
      "[1, 3, 5, 7]\n",
      "[7, 6, 5, 4, 3, 2]\n",
      "[7, 6, 5, 4, 3, 2, 1]\n"
     ]
    }
   ],
   "source": [
    "#step\n",
    "\n",
    "numList=[1,2,3,4,5,6,7]\n",
    "\n",
    "print(numList[0:7:2])    #start:stop:step\n",
    "print(numList[7:0:-1])\n",
    "print(numList[::-1])"
   ]
  },
  {
   "cell_type": "code",
   "execution_count": null,
   "id": "64a47ccd",
   "metadata": {},
   "outputs": [
    {
     "ename": "SyntaxError",
     "evalue": "invalid syntax (1482376004.py, line 2)",
     "output_type": "error",
     "traceback": [
      "  \u001b[36mCell\u001b[39m\u001b[36m \u001b[39m\u001b[32mIn[58]\u001b[39m\u001b[32m, line 2\u001b[39m\n\u001b[31m    \u001b[39m\u001b[31mlist_.\u001b[39m\n          ^\n\u001b[31mSyntaxError\u001b[39m\u001b[31m:\u001b[39m invalid syntax\n"
     ]
    }
   ],
   "source": [
    "#instructions\n",
    "list_=[1,4,6,'s',7]\n",
    "list_.reverse()"
   ]
  },
  {
   "cell_type": "code",
   "execution_count": 70,
   "id": "52b46b62",
   "metadata": {},
   "outputs": [
    {
     "name": "stdout",
     "output_type": "stream",
     "text": [
      "[1, 4, 6, 's', 7]\n",
      "[1, 4, 6, 's', 7, 10]\n",
      "[1, 4, 6, 's', 7, 10, 'sina']\n",
      "[1, 4, 6, 's', 7, 10, 'sina', [1, 2, 3]]\n",
      "[1, 4, 6, 's', 7, 10, 'sina', [1, 2, 3], 1, 2, 3]\n",
      "[3, 2, 1, [1, 2, 3], 'sina', 10, 7, 's', 6, 4, 1]\n",
      "[3, 2, 1, [1, 2, 3], 'sina', 10, 7, 's', 6, 4]\n"
     ]
    }
   ],
   "source": [
    "#append, extend, reverse, pop\n",
    "\n",
    "list_=[1,4,6,'s',7]\n",
    "\n",
    "print(list_)\n",
    "\n",
    "list_.append(10)\n",
    "print(list_)\n",
    "\n",
    "list_.append(\"sina\")\n",
    "print(list_)\n",
    "\n",
    "list_.append([1,2,3])\n",
    "print(list_)\n",
    "\n",
    "list_.extend([1,2,3])\n",
    "print(list_)\n",
    "\n",
    "list_.reverse()\n",
    "print(list_)\n",
    "\n",
    "list_.pop()\n",
    "print(list_)"
   ]
  },
  {
   "cell_type": "code",
   "execution_count": null,
   "id": "5aa60b54",
   "metadata": {},
   "outputs": [],
   "source": [
    "#len(list_)\n",
    "#list_.reverse()\n",
    "#+,-,="
   ]
  },
  {
   "cell_type": "code",
   "execution_count": 73,
   "id": "8635b47f",
   "metadata": {},
   "outputs": [
    {
     "name": "stdout",
     "output_type": "stream",
     "text": [
      "[1, 4, 6, 's', 7, 'sina', 'hossein', 'ali']\n"
     ]
    }
   ],
   "source": [
    "#+\n",
    "list_=[1,4,6,'s',7]\n",
    "names = [\"sina\",\"hossein\",\"ali\"]\n",
    "\n",
    "print(list_ + names)"
   ]
  },
  {
   "cell_type": "code",
   "execution_count": 13,
   "id": "d651dd97",
   "metadata": {},
   "outputs": [
    {
     "name": "stdout",
     "output_type": "stream",
     "text": [
      "15.8125\n"
     ]
    }
   ],
   "source": [
    "#average\n",
    "\n",
    "grades=[17,19,14.75,12.50]\n",
    "\n",
    "avg = sum(grades) / len(grades)\n",
    "\n",
    "print(avg)\n"
   ]
  },
  {
   "cell_type": "code",
   "execution_count": 16,
   "id": "fa8f4dfd",
   "metadata": {},
   "outputs": [
    {
     "ename": "SyntaxError",
     "evalue": "invalid syntax (1182102092.py, line 6)",
     "output_type": "error",
     "traceback": [
      "  \u001b[36mCell\u001b[39m\u001b[36m \u001b[39m\u001b[32mIn[16]\u001b[39m\u001b[32m, line 6\u001b[39m\n\u001b[31m    \u001b[39m\u001b[31mdata +,<,>,=   #oop\u001b[39m\n          ^\n\u001b[31mSyntaxError\u001b[39m\u001b[31m:\u001b[39m invalid syntax\n"
     ]
    }
   ],
   "source": [
    "#data instruction\n",
    "\n",
    "inst(data)     #function\n",
    "\n",
    "data.inst()    #oop\n",
    "data +,<,>,=   #oop"
   ]
  },
  {
   "cell_type": "code",
   "execution_count": 20,
   "id": "1786e9e3",
   "metadata": {},
   "outputs": [
    {
     "name": "stdout",
     "output_type": "stream",
     "text": [
      "S\n",
      "Sin\n"
     ]
    }
   ],
   "source": [
    "name = \"Sina\"\n",
    "\n",
    "print(name[0])\n",
    "print(name[0:3])\n",
    "\n",
    "# list is mutable\n",
    "# string is immutable"
   ]
  },
  {
   "cell_type": "code",
   "execution_count": 31,
   "id": "ec7dbf22",
   "metadata": {},
   "outputs": [
    {
     "name": "stdout",
     "output_type": "stream",
     "text": [
      "sina SINA\n"
     ]
    }
   ],
   "source": [
    "#str in immutable\n",
    "\n",
    "name = \"SINA\"\n",
    "nameCopy = name.lower()\n",
    "print(nameCopy,name)\n",
    "#name[0]=\"b\""
   ]
  },
  {
   "cell_type": "code",
   "execution_count": null,
   "id": "5a98ec63",
   "metadata": {},
   "outputs": [
    {
     "name": "stdout",
     "output_type": "stream",
     "text": [
      "[12, 2, 10]\n"
     ]
    }
   ],
   "source": [
    "#list is mutable\n",
    "a=[1,2,10]\n",
    "b=a\n",
    "a[0]=12\n",
    "print(b)"
   ]
  },
  {
   "cell_type": "code",
   "execution_count": null,
   "id": "90c8750e",
   "metadata": {},
   "outputs": [
    {
     "name": "stdout",
     "output_type": "stream",
     "text": [
      "sina SINA\n"
     ]
    }
   ],
   "source": [
    "#str in immutable\n",
    "\n",
    "name = \"SINA\"\n",
    "temp=name\n",
    "\n",
    "name=name.lower()\n",
    "\n",
    "print(name,temp)"
   ]
  },
  {
   "cell_type": "code",
   "execution_count": 37,
   "id": "e506c604",
   "metadata": {},
   "outputs": [
    {
     "name": "stdout",
     "output_type": "stream",
     "text": [
      "['S', 'I', 'N', 'A']\n",
      "['I', 'N', 'A']\n"
     ]
    }
   ],
   "source": [
    "#str to list\n",
    "\n",
    "name = \"SINA\"\n",
    "lname=list(name)\n",
    "print(lname)\n",
    "print(list(name[1:4]))"
   ]
  },
  {
   "cell_type": "code",
   "execution_count": 39,
   "id": "248bebd3",
   "metadata": {},
   "outputs": [
    {
     "name": "stdout",
     "output_type": "stream",
     "text": [
      "['S', 'i', 'n', 'a', ' ', ' ', ' ', ' ', ' ', 'Z', 'o', 'u', 'b', 'a', 'n'] ['Sina', 'Zouban']\n"
     ]
    }
   ],
   "source": [
    "#split()\n",
    "\n",
    "name=\"Sina     Zouban\"\n",
    "lname=name.split()\n",
    "print(list(name),lname)"
   ]
  },
  {
   "cell_type": "code",
   "execution_count": 44,
   "id": "c4cbe18f",
   "metadata": {},
   "outputs": [
    {
     "name": "stdout",
     "output_type": "stream",
     "text": [
      "bsfehsr\n"
     ]
    }
   ],
   "source": [
    "#replace\n",
    "\n",
    "a=\"asfehsr\"\n",
    "\n",
    "#a[0]='b' wrong\n",
    "\n",
    "b=a.replace('a','b')\n",
    "print(b)"
   ]
  },
  {
   "cell_type": "code",
   "execution_count": 46,
   "id": "a6aa1312",
   "metadata": {},
   "outputs": [
    {
     "name": "stdout",
     "output_type": "stream",
     "text": [
      "s---i---n---a\n"
     ]
    }
   ],
   "source": [
    "#join\n",
    "\n",
    "name=\"sina\"\n",
    "a=\"---\"\n",
    "res=a.join(name)\n",
    "print(res)"
   ]
  },
  {
   "cell_type": "code",
   "execution_count": 48,
   "id": "37989033",
   "metadata": {},
   "outputs": [
    {
     "name": "stdout",
     "output_type": "stream",
     "text": [
      "2\n",
      "5\n",
      "14\n"
     ]
    }
   ],
   "source": [
    "#for\n",
    "\n",
    "list_=[2,5,14]\n",
    "\n",
    "for item in list_:\n",
    "    print(item)"
   ]
  },
  {
   "cell_type": "code",
   "execution_count": 50,
   "id": "24deedf9",
   "metadata": {},
   "outputs": [
    {
     "name": "stdout",
     "output_type": "stream",
     "text": [
      "17\n"
     ]
    }
   ],
   "source": [
    "list_=[1,4,7,2,3]\n",
    "\n",
    "total=0\n",
    "\n",
    "for item in list_:\n",
    "    total+=item    #total=total+item\n",
    "\n",
    "print(total)"
   ]
  },
  {
   "cell_type": "code",
   "execution_count": 54,
   "id": "cc6286fc",
   "metadata": {},
   "outputs": [
    {
     "name": "stdout",
     "output_type": "stream",
     "text": [
      "4\n",
      "2\n",
      "8\n",
      "14\n",
      "84\n"
     ]
    }
   ],
   "source": [
    "list_ = [1,4,5,2,8,23,14,17,84]\n",
    "\n",
    "for a in list_:\n",
    "    if a%2==0:\n",
    "        print(a)"
   ]
  },
  {
   "cell_type": "code",
   "execution_count": 55,
   "id": "f7a97fdf",
   "metadata": {},
   "outputs": [
    {
     "ename": "SyntaxError",
     "evalue": "incomplete input (111185142.py, line 3)",
     "output_type": "error",
     "traceback": [
      "  \u001b[36mCell\u001b[39m\u001b[36m \u001b[39m\u001b[32mIn[55]\u001b[39m\u001b[32m, line 3\u001b[39m\n\u001b[31m    \u001b[39m\u001b[31m#ins\u001b[39m\n        ^\n\u001b[31mSyntaxError\u001b[39m\u001b[31m:\u001b[39m incomplete input\n"
     ]
    }
   ],
   "source": [
    "a=\"s\"\n",
    "while a!=\"i\":\n",
    "    #ins"
   ]
  },
  {
   "cell_type": "code",
   "execution_count": 63,
   "id": "d7d5129b",
   "metadata": {},
   "outputs": [
    {
     "name": "stdout",
     "output_type": "stream",
     "text": [
      "a\n",
      "a\n",
      "a\n",
      "a\n",
      "a\n",
      "[0, 1, 2, 3, 4]\n",
      "<class 'range'>\n"
     ]
    }
   ],
   "source": [
    "#range\n",
    "\n",
    "for item in range(5):\n",
    "    print(\"a\")\n",
    "\n",
    "print(list(range(5)))\n",
    "print(type(range(5)))"
   ]
  },
  {
   "cell_type": "code",
   "execution_count": 67,
   "id": "d5f8334d",
   "metadata": {},
   "outputs": [
    {
     "name": "stdout",
     "output_type": "stream",
     "text": [
      "2\n",
      "3\n",
      "4\n",
      "[2, 3, 4]\n"
     ]
    }
   ],
   "source": [
    "for item in range(2, 5):\n",
    "    print(item)\n",
    "\n",
    "print(list(range(2, 5)))"
   ]
  },
  {
   "cell_type": "code",
   "execution_count": 69,
   "id": "aabe9349",
   "metadata": {},
   "outputs": [
    {
     "name": "stdout",
     "output_type": "stream",
     "text": [
      "2\n",
      "4\n",
      "6\n",
      "8\n"
     ]
    }
   ],
   "source": [
    "for item in range (2, 9, 2):\n",
    "    print(item)\n",
    "\n"
   ]
  },
  {
   "cell_type": "code",
   "execution_count": 71,
   "id": "c9fe6682",
   "metadata": {},
   "outputs": [
    {
     "name": "stdout",
     "output_type": "stream",
     "text": [
      "1\n",
      "2\n",
      "3\n",
      "4\n",
      "5\n",
      "6\n",
      "7\n",
      "8\n",
      "9\n",
      "10\n",
      "11\n",
      "12\n",
      "13\n",
      "14\n",
      "15\n",
      "16\n",
      "17\n",
      "18\n",
      "19\n",
      "20\n",
      "21\n",
      "22\n",
      "23\n",
      "24\n",
      "25\n",
      "26\n",
      "27\n",
      "28\n",
      "29\n",
      "30\n",
      "31\n",
      "32\n",
      "33\n",
      "34\n",
      "35\n",
      "36\n",
      "37\n",
      "38\n",
      "39\n",
      "40\n",
      "41\n",
      "42\n",
      "43\n",
      "44\n",
      "45\n",
      "46\n",
      "47\n",
      "48\n",
      "49\n",
      "50\n",
      "51\n",
      "52\n",
      "53\n",
      "54\n",
      "55\n",
      "56\n",
      "57\n",
      "58\n",
      "59\n",
      "60\n",
      "61\n",
      "62\n",
      "63\n",
      "64\n",
      "65\n",
      "66\n",
      "67\n",
      "68\n",
      "69\n",
      "70\n",
      "71\n",
      "72\n",
      "73\n",
      "74\n",
      "75\n",
      "76\n",
      "77\n",
      "78\n",
      "79\n",
      "80\n",
      "81\n",
      "82\n",
      "83\n",
      "84\n",
      "85\n",
      "86\n",
      "87\n",
      "88\n",
      "89\n",
      "90\n",
      "91\n",
      "92\n",
      "93\n",
      "94\n",
      "95\n",
      "96\n",
      "97\n",
      "98\n",
      "99\n",
      "100\n"
     ]
    }
   ],
   "source": [
    "for item in range(1,101):\n",
    "    print(item)"
   ]
  }
 ],
 "metadata": {
  "kernelspec": {
   "display_name": "Python 3",
   "language": "python",
   "name": "python3"
  },
  "language_info": {
   "codemirror_mode": {
    "name": "ipython",
    "version": 3
   },
   "file_extension": ".py",
   "mimetype": "text/x-python",
   "name": "python",
   "nbconvert_exporter": "python",
   "pygments_lexer": "ipython3",
   "version": "3.12.4"
  }
 },
 "nbformat": 4,
 "nbformat_minor": 5
}
