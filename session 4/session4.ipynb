{
 "cells": [
  {
   "cell_type": "code",
   "execution_count": null,
   "id": "c05ced50",
   "metadata": {},
   "outputs": [
    {
     "name": "stdout",
     "output_type": "stream",
     "text": [
      "1 is in digits\n"
     ]
    }
   ],
   "source": [
    "#conditional executions\n",
    "digits=\"12345\"\n",
    "if \"1\" in digits:\n",
    "    print(\"1 is in digits\")"
   ]
  },
  {
   "cell_type": "code",
   "execution_count": null,
   "id": "e68fd5d2",
   "metadata": {},
   "outputs": [],
   "source": [
    "#input\n",
    "grade=int(input())\n",
    "\n",
    "grade+1\n",
    "\n",
    "print(\"Your grade is\",grade)\n"
   ]
  },
  {
   "cell_type": "code",
   "execution_count": null,
   "id": "d8607e6c",
   "metadata": {},
   "outputs": [],
   "source": [
    "grade=int(input())\n",
    "if grade>=12:\n",
    "    print(\"ghabol shodi\")\n",
    "elif 10<=grade<12:\n",
    "    print(\"mashroot shodi\")\n",
    "elif grade<10:\n",
    "    print(\"rad shodi\")\n",
    "    "
   ]
  },
  {
   "cell_type": "code",
   "execution_count": null,
   "id": "631b2d48",
   "metadata": {},
   "outputs": [],
   "source": [
    "#even or odd\n",
    "num=int(input(\"Please enter a number\"))\n",
    "\n",
    "if num%2==0:\n",
    "    print(\"Number is even\")\n",
    "\n",
    "else:\n",
    "    print(\"Number is odd\")\n",
    "    "
   ]
  },
  {
   "cell_type": "code",
   "execution_count": null,
   "id": "9484bb9d",
   "metadata": {},
   "outputs": [],
   "source": [
    "#repetition\n",
    "\n",
    "number=1\n",
    "\n",
    "while number<=100:\n",
    "\n",
    "    print(number,end=\" \")\n",
    "    number=number+1"
   ]
  },
  {
   "cell_type": "code",
   "execution_count": null,
   "id": "d694dac1",
   "metadata": {},
   "outputs": [],
   "source": [
    "#مقسوم  علیه های یک عدد\n",
    "\n",
    "n=int(input())\n",
    "k=1\n",
    "\n",
    "while k<=n:\n",
    "    if n%k==0:\n",
    "        print(k,end=\" \")\n",
    "    k+=1\n",
    "    "
   ]
  },
  {
   "cell_type": "code",
   "execution_count": null,
   "id": "754cc083",
   "metadata": {},
   "outputs": [],
   "source": [
    "#end\n",
    "\n",
    "number=1\n",
    "\n",
    "while number<=100:\n",
    "    print(number,end=\"*\"*number)\n",
    "    number+=1"
   ]
  },
  {
   "cell_type": "code",
   "execution_count": null,
   "id": "c3a351d5",
   "metadata": {},
   "outputs": [],
   "source": [
    "#sep\n",
    "\n",
    "print(\"salam\",\"khobi?\",\"che khabar?\",sep=\"\\n\")\n"
   ]
  },
  {
   "cell_type": "code",
   "execution_count": null,
   "id": "843a07c6",
   "metadata": {},
   "outputs": [],
   "source": [
    "a=0\n",
    "\n",
    "while a<=10:\n",
    "    print(\"salam\")\n",
    "    a+=1\n",
    "    "
   ]
  },
  {
   "cell_type": "code",
   "execution_count": null,
   "id": "8894814a",
   "metadata": {},
   "outputs": [],
   "source": [
    "#list\n",
    "\n",
    "a=[1,2,3,'s',True,2.3]\n",
    "list_=[]\n",
    "\n",
    "print(type(a),a,sep=\"\\n\")\n"
   ]
  },
  {
   "cell_type": "code",
   "execution_count": null,
   "id": "2659859f",
   "metadata": {},
   "outputs": [],
   "source": [
    "#index\n",
    "\n",
    "a=[1,2,3,'s',True,2.3]\n",
    "\n",
    "print(a[0])\n",
    "print(a[1])\n",
    "print(a[4])\n",
    "print(a[6])\n"
   ]
  },
  {
   "cell_type": "code",
   "execution_count": null,
   "id": "709b8478",
   "metadata": {},
   "outputs": [],
   "source": [
    "#len, max, min, sum\n",
    "\n",
    "b=[1,2,5,9,27]\n",
    "\n",
    "print(len(b))\n",
    "print(max(b))\n",
    "print(min(b))\n",
    "print(sum(b))\n"
   ]
  }
 ],
 "metadata": {
  "kernelspec": {
   "display_name": "Python 3",
   "language": "python",
   "name": "python3"
  },
  "language_info": {
   "codemirror_mode": {
    "name": "ipython",
    "version": 3
   },
   "file_extension": ".py",
   "mimetype": "text/x-python",
   "name": "python",
   "nbconvert_exporter": "python",
   "pygments_lexer": "ipython3",
   "version": "3.12.4"
  }
 },
 "nbformat": 4,
 "nbformat_minor": 5
}
