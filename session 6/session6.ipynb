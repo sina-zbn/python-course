{
 "cells": [
  {
   "cell_type": "code",
   "execution_count": null,
   "id": "9546c287",
   "metadata": {},
   "outputs": [
    {
     "name": "stdout",
     "output_type": "stream",
     "text": [
      "Is your number bigger than 50 yes or no?\n"
     ]
    }
   ],
   "source": [
    "#problem 1\n",
    "a=1\n",
    "b=100\n",
    "\n",
    "\n",
    "while b-a>=2:\n",
    "    mid=int((a+b)/2)\n",
    "    print(\"Is your number bigger than\",mid,\"y or n?\")\n",
    "    ans=input()\n",
    "    if ans==\"y\":\n",
    "        a=mid\n",
    "    elif ans==\"n\":\n",
    "        b=mid\n",
    "print(\"Your number is\",b)"
   ]
  },
  {
   "cell_type": "code",
   "execution_count": 1,
   "id": "0c084eaf",
   "metadata": {},
   "outputs": [
    {
     "name": "stdout",
     "output_type": "stream",
     "text": [
      "2\n"
     ]
    }
   ],
   "source": [
    "a=5\n",
    "print(int(a/2))"
   ]
  },
  {
   "cell_type": "code",
   "execution_count": null,
   "id": "16c4bcfe",
   "metadata": {},
   "outputs": [],
   "source": [
    "#problem 2\n",
    "num=int(input(\"Please enter a number to check:\"))\n",
    "is_prime = True\n",
    "if num <= 1:\n",
    "    is_prime = False\n",
    "\n",
    "for item in range(2,num):\n",
    "    if num % item == 0:\n",
    "        is_prime = False\n",
    "        \n",
    "print(is_prime)\n",
    "    "
   ]
  },
  {
   "cell_type": "code",
   "execution_count": 3,
   "id": "bab44d97",
   "metadata": {},
   "outputs": [
    {
     "name": "stdout",
     "output_type": "stream",
     "text": [
      "[0, 2, 4, 6, 8]\n",
      "[0, 2, 4, 6, 8]\n"
     ]
    }
   ],
   "source": [
    "#list comprehension\n",
    "\n",
    "#option 1\n",
    "list_=[]\n",
    "for item in range(5):\n",
    "    list_.append(item*2)\n",
    "print(list_)\n",
    "\n",
    "\n",
    "#option 2\n",
    "lcomp=[item*2 for item in range(5)]\n",
    "print(lcomp)"
   ]
  },
  {
   "cell_type": "code",
   "execution_count": null,
   "id": "dd6209cc",
   "metadata": {},
   "outputs": [
    {
     "name": "stdout",
     "output_type": "stream",
     "text": [
      "[0, 2, 4]\n",
      "[0, 2, 4]\n"
     ]
    }
   ],
   "source": [
    "#option 1\n",
    "list_=[]\n",
    "for item in range(5):\n",
    "    if item%2 == 0:\n",
    "        list_.append(item)\n",
    "print(list_)\n",
    "\n",
    "#option 2\n",
    "lcomp=[item for item in range(5) if item % 2 == 0]\n",
    "print(lcomp)"
   ]
  },
  {
   "cell_type": "code",
   "execution_count": null,
   "id": "e09c1813",
   "metadata": {},
   "outputs": [
    {
     "name": "stdout",
     "output_type": "stream",
     "text": [
      "[[2, 3, 4, 5], [3, 4, 5, 6], [4, 5, 6, 7], [5, 6, 7, 8]]\n"
     ]
    }
   ],
   "source": [
    "#option 1\n",
    "list_=[]\n",
    "for i in range(1,5):\n",
    "    row=[]\n",
    "    for j in range(1,5):\n",
    "        row.append(i+j)\n",
    "    list_.append(row)\n",
    "print(list_)\n",
    "\n",
    "\n",
    "#option 2\n"
   ]
  },
  {
   "cell_type": "code",
   "execution_count": null,
   "id": "3b1772a6",
   "metadata": {},
   "outputs": [
    {
     "name": "stdout",
     "output_type": "stream",
     "text": [
      "21\n"
     ]
    }
   ],
   "source": [
    "#function\n",
    "def add(a,b):\n",
    "    return a+b\n",
    "\n",
    "\n",
    "print(add(10,11))\n"
   ]
  },
  {
   "cell_type": "code",
   "execution_count": 12,
   "id": "6c3d0777",
   "metadata": {},
   "outputs": [
    {
     "name": "stdout",
     "output_type": "stream",
     "text": [
      "(17, 70)\n"
     ]
    }
   ],
   "source": [
    "def add_mult(a, b):\n",
    "    return a+b, a*b\n",
    "\n",
    "res = add_mult(7,10)\n",
    "\n",
    "print(res)"
   ]
  },
  {
   "cell_type": "code",
   "execution_count": 41,
   "id": "a45761bb",
   "metadata": {},
   "outputs": [
    {
     "name": "stdout",
     "output_type": "stream",
     "text": [
      "Hello Sina\n",
      "None\n"
     ]
    }
   ],
   "source": [
    "def greeting(name):\n",
    "    print(\"Hello\",name)\n",
    "\n",
    "a=greeting(\"Sina\")\n",
    "print(a)"
   ]
  },
  {
   "cell_type": "code",
   "execution_count": 15,
   "id": "5f786697",
   "metadata": {},
   "outputs": [
    {
     "name": "stdout",
     "output_type": "stream",
     "text": [
      "3.141592653589793\n"
     ]
    }
   ],
   "source": [
    "import math\n",
    "\n",
    "print(math.pi)"
   ]
  },
  {
   "cell_type": "code",
   "execution_count": 21,
   "id": "46307667",
   "metadata": {},
   "outputs": [
    {
     "name": "stdout",
     "output_type": "stream",
     "text": [
      "7\n"
     ]
    }
   ],
   "source": [
    "import random\n",
    "\n",
    "a = random.randint(0,10)\n",
    "print(a)"
   ]
  },
  {
   "cell_type": "code",
   "execution_count": 27,
   "id": "c97997a9",
   "metadata": {},
   "outputs": [
    {
     "name": "stdout",
     "output_type": "stream",
     "text": [
      "[4, 2, 5, 9, 0, 4, 1, 0, 3, 9, 0, 9, 0, 1, 7, 6, 0, 6, 0, 1]\n"
     ]
    }
   ],
   "source": [
    "import random\n",
    "\n",
    "def generate_random_number():\n",
    "    return [random.randint(0, 10) for _ in range(20)]\n",
    "\n",
    "print(generate_random_number())"
   ]
  },
  {
   "cell_type": "code",
   "execution_count": 35,
   "id": "26d0c239",
   "metadata": {},
   "outputs": [
    {
     "name": "stdout",
     "output_type": "stream",
     "text": [
      "1662 1654 1678\n"
     ]
    }
   ],
   "source": [
    "import random\n",
    "\n",
    "def dice(turn):\n",
    "    return [random.randint(1, 6) for _ in range(turn)]\n",
    "\n",
    "a=0\n",
    "b=0\n",
    "c=0\n",
    "for i in dice(10000):\n",
    "    if i==1:\n",
    "        a+=1\n",
    "    if i==2:\n",
    "        b+=1\n",
    "    if i==6:\n",
    "        c+=1\n",
    "\n",
    "print(a,b,c)"
   ]
  },
  {
   "cell_type": "code",
   "execution_count": null,
   "id": "a080dd95",
   "metadata": {},
   "outputs": [
    {
     "name": "stdout",
     "output_type": "stream",
     "text": [
      "True\n"
     ]
    }
   ],
   "source": [
    "def is_prime(n):\n",
    "    if n<=1:\n",
    "        return False\n",
    "    for i in range(2,n):\n",
    "        if n%i == 0:\n",
    "            return False\n",
    "    return True\n",
    "\n",
    "\n",
    "\n",
    "print(is_prime(23))\n",
    "\n"
   ]
  },
  {
   "cell_type": "code",
   "execution_count": 44,
   "id": "01413b7b",
   "metadata": {},
   "outputs": [
    {
     "name": "stdout",
     "output_type": "stream",
     "text": [
      "1\n"
     ]
    }
   ],
   "source": [
    "def a():\n",
    "    return 1\n",
    "    return \"Salam\"\n",
    "\n",
    "print(a())"
   ]
  },
  {
   "cell_type": "code",
   "execution_count": 51,
   "id": "36b4f340",
   "metadata": {},
   "outputs": [
    {
     "name": "stdout",
     "output_type": "stream",
     "text": [
      "C\n"
     ]
    }
   ],
   "source": [
    "def grade(n):\n",
    "    if n<60:\n",
    "        return \"F\"\n",
    "    if 60<= n <70:\n",
    "        return \"D\"\n",
    "    if 70<=n<80:\n",
    "        return \"C\"\n",
    "    if 80<=n<90:\n",
    "        return \"B\"\n",
    "    return \"A\"\n",
    "\n",
    "\n",
    "print(grade(74))\n",
    "    "
   ]
  },
  {
   "cell_type": "code",
   "execution_count": 58,
   "id": "2e85e993",
   "metadata": {},
   "outputs": [
    {
     "name": "stdout",
     "output_type": "stream",
     "text": [
      "Hello ali\n"
     ]
    }
   ],
   "source": [
    "#f_string\n",
    "\n",
    "def greeting(name):\n",
    "    return f\"Hello {name}\"\n",
    "\n",
    "a=greeting(\"ali\")\n",
    "print(a)"
   ]
  },
  {
   "cell_type": "code",
   "execution_count": 65,
   "id": "021beea9",
   "metadata": {},
   "outputs": [
    {
     "name": "stdout",
     "output_type": "stream",
     "text": [
      "3.14\n"
     ]
    }
   ],
   "source": [
    "import math\n",
    "\n",
    "print(f\"{math.pi:.2f}\")"
   ]
  },
  {
   "cell_type": "code",
   "execution_count": 67,
   "id": "d4bdfab8",
   "metadata": {},
   "outputs": [
    {
     "name": "stdout",
     "output_type": "stream",
     "text": [
      "43.081%\n"
     ]
    }
   ],
   "source": [
    "a=41_323_655\n",
    "b=54_598_123\n",
    "\n",
    "print(f\"{a/(a+b):.3%}\")"
   ]
  },
  {
   "cell_type": "code",
   "execution_count": 69,
   "id": "d16117f9",
   "metadata": {},
   "outputs": [
    {
     "name": "stdout",
     "output_type": "stream",
     "text": [
      "Sina is 22 years old\n"
     ]
    }
   ],
   "source": [
    "a=22\n",
    "print(f\"Sina is {a} years old\")"
   ]
  },
  {
   "cell_type": "code",
   "execution_count": 72,
   "id": "9b1247b4",
   "metadata": {},
   "outputs": [
    {
     "name": "stdout",
     "output_type": "stream",
     "text": [
      "Aug 06, 2025\n"
     ]
    }
   ],
   "source": [
    "import datetime\n",
    "today=datetime.datetime.today()\n",
    "print(f\"{today:%b %d, %Y}\")"
   ]
  },
  {
   "cell_type": "code",
   "execution_count": 74,
   "id": "58441a26",
   "metadata": {},
   "outputs": [
    {
     "name": "stdout",
     "output_type": "stream",
     "text": [
      "<class 'tuple'>\n"
     ]
    }
   ],
   "source": [
    "#tuple\n",
    "t=(1,2,3)\n",
    "print(type(t))"
   ]
  }
 ],
 "metadata": {
  "kernelspec": {
   "display_name": "Python 3",
   "language": "python",
   "name": "python3"
  },
  "language_info": {
   "codemirror_mode": {
    "name": "ipython",
    "version": 3
   },
   "file_extension": ".py",
   "mimetype": "text/x-python",
   "name": "python",
   "nbconvert_exporter": "python",
   "pygments_lexer": "ipython3",
   "version": "3.12.4"
  }
 },
 "nbformat": 4,
 "nbformat_minor": 5
}
