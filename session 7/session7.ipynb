{
 "cells": [
  {
   "cell_type": "code",
   "execution_count": null,
   "id": "ea1d5e09",
   "metadata": {},
   "outputs": [
    {
     "name": "stdout",
     "output_type": "stream",
     "text": [
      "[[2, 3, 4, 5], [3, 4, 5, 6], [4, 5, 6, 7], [5, 6, 7, 8]]\n",
      "[[2, 3, 4, 5], [3, 4, 5, 6], [4, 5, 6, 7], [5, 6, 7, 8]]\n"
     ]
    }
   ],
   "source": [
    "#lcomp\n",
    "\n",
    "#option 1\n",
    "list_=[]\n",
    "for i in range(1,5):\n",
    "    row=[]\n",
    "    for j in range(1,5):\n",
    "        row.append(i+j)\n",
    "    list_.append(row)\n",
    "print(list_)\n",
    "\n",
    "\n",
    "#option 2\n",
    "lcomp=[[i+j for j in range(1,5)] for i in range(1,5)]\n",
    "print(lcomp)"
   ]
  },
  {
   "cell_type": "code",
   "execution_count": 2,
   "id": "47d60e13",
   "metadata": {},
   "outputs": [],
   "source": [
    "#function\n",
    "\n",
    "#def name(parameters):\n",
    "#    return output\n",
    "\n",
    "#name(a,b,c)\n",
    "\n",
    "#print()\n",
    "#min()\n",
    "\n"
   ]
  },
  {
   "cell_type": "code",
   "execution_count": 10,
   "id": "4dfbab22",
   "metadata": {},
   "outputs": [
    {
     "name": "stdout",
     "output_type": "stream",
     "text": [
      "salam ali number 2.8\n"
     ]
    }
   ],
   "source": [
    "#f-string\n",
    "\n",
    "name=\"ali\"\n",
    "b=2.785\n",
    "a=f\"salam {name}\"\n",
    "c=f\"number {b:.1f}\"\n",
    "print(a,c)\n",
    "a=\"salam sina\""
   ]
  },
  {
   "cell_type": "code",
   "execution_count": 21,
   "id": "af287e84",
   "metadata": {},
   "outputs": [
    {
     "name": "stdout",
     "output_type": "stream",
     "text": [
      "<class 'tuple'>\n"
     ]
    }
   ],
   "source": [
    "#tuple\n",
    "t=(1, 2, 3, 'a')\n",
    "\n",
    "def add_mult(a,b):\n",
    "    return a+b, a*b, a\n",
    "\n",
    "am=add_mult(2,3)\n",
    "\n",
    "print(type(am))"
   ]
  },
  {
   "cell_type": "code",
   "execution_count": 23,
   "id": "ec22a652",
   "metadata": {},
   "outputs": [
    {
     "data": {
      "text/plain": [
       "2"
      ]
     },
     "execution_count": 23,
     "metadata": {},
     "output_type": "execute_result"
    }
   ],
   "source": [
    "t=(1,2,3)\n",
    "t[1]"
   ]
  },
  {
   "cell_type": "code",
   "execution_count": 25,
   "id": "3cd7caa6",
   "metadata": {},
   "outputs": [
    {
     "name": "stdout",
     "output_type": "stream",
     "text": [
      "5 12\n"
     ]
    }
   ],
   "source": [
    "x=12\n",
    "y=5\n",
    "\n",
    "x,y=y,x\n",
    "print(x,y)"
   ]
  },
  {
   "cell_type": "code",
   "execution_count": null,
   "id": "706c82d9",
   "metadata": {},
   "outputs": [
    {
     "name": "stdout",
     "output_type": "stream",
     "text": [
      "<class 'tuple'>\n"
     ]
    }
   ],
   "source": [
    "t=1,2,3,'a'\n",
    "print(type(t))"
   ]
  },
  {
   "cell_type": "code",
   "execution_count": 33,
   "id": "83789686",
   "metadata": {},
   "outputs": [
    {
     "name": "stdout",
     "output_type": "stream",
     "text": [
      "<class 'dict'>\n",
      "{'name': 'Sina', 'age': 23, 'height': 180, 'gender': 'male'}\n",
      "Sina\n",
      "23\n"
     ]
    }
   ],
   "source": [
    "#dict\n",
    "\n",
    "person = {\n",
    "    \"name\": \"Sina\",\n",
    "    \"age\": 23,\n",
    "    \"height\": 180,\n",
    "    \"gender\": \"male\"\n",
    "}\n",
    "\n",
    "print(type(person))\n",
    "\n",
    "print(person)\n",
    "\n",
    "name = person[\"name\"]\n",
    "print(name)\n",
    "print(person[\"age\"])"
   ]
  },
  {
   "cell_type": "code",
   "execution_count": 42,
   "id": "61c5108b",
   "metadata": {},
   "outputs": [
    {
     "name": "stdout",
     "output_type": "stream",
     "text": [
      "Shiraz\n",
      "{'city1': 'Tehran', 'city2': 'Shiraz', 'num': 31}\n"
     ]
    }
   ],
   "source": [
    "cities = dict(city1=\"Tehran\", city2=\"esfahan\", num=31)\n",
    "\n",
    "cities[\"city2\"] = \"Shiraz\"\n",
    "print(cities[\"city2\"])    #mutable\n",
    "print(cities)"
   ]
  },
  {
   "cell_type": "code",
   "execution_count": 1,
   "id": "823db4b2",
   "metadata": {},
   "outputs": [
    {
     "ename": "NameError",
     "evalue": "name 'cities' is not defined",
     "output_type": "error",
     "traceback": [
      "\u001b[31m---------------------------------------------------------------------------\u001b[39m",
      "\u001b[31mNameError\u001b[39m                                 Traceback (most recent call last)",
      "\u001b[36mCell\u001b[39m\u001b[36m \u001b[39m\u001b[32mIn[1]\u001b[39m\u001b[32m, line 3\u001b[39m\n\u001b[32m      1\u001b[39m \u001b[38;5;66;03m#keys, values\u001b[39;00m\n\u001b[32m----> \u001b[39m\u001b[32m3\u001b[39m \u001b[38;5;28mprint\u001b[39m(\u001b[43mcities\u001b[49m.keys())\n\u001b[32m      4\u001b[39m \u001b[38;5;28mprint\u001b[39m(cities.values())\n\u001b[32m      6\u001b[39m \u001b[38;5;28;01mfor\u001b[39;00m item \u001b[38;5;129;01min\u001b[39;00m cities.values():\n",
      "\u001b[31mNameError\u001b[39m: name 'cities' is not defined"
     ]
    }
   ],
   "source": [
    "#keys, values\n",
    "\n",
    "print(cities.keys())\n",
    "print(cities.values())\n",
    "\n",
    "for item in cities.values():\n",
    "    print(item)"
   ]
  },
  {
   "cell_type": "code",
   "execution_count": 3,
   "id": "37fbda15",
   "metadata": {},
   "outputs": [
    {
     "name": "stdout",
     "output_type": "stream",
     "text": [
      "{'city1': 'Isfahan', 'city2': 'Shiraz', 'num': 32, 'city3': 'Tabriz'}\n"
     ]
    }
   ],
   "source": [
    "#update\n",
    "cities={\n",
    "    \"city1\": \"Tehran\",\n",
    "    \"city2\": \"Isfahan\",\n",
    "    \"num\": 31\n",
    "}\n",
    "\n",
    "cities[\"city2\"] = \"Shiraz\"\n",
    "\n",
    "cities.update({\"city1\": \"Isfahan\", \"num\": 32, \"city3\": \"Tabriz\"})\n",
    "print(cities)"
   ]
  },
  {
   "cell_type": "code",
   "execution_count": 7,
   "id": "3aa46ef7",
   "metadata": {},
   "outputs": [
    {
     "name": "stdout",
     "output_type": "stream",
     "text": [
      "city1\n",
      "city2\n",
      "num\n",
      "------------------------------\n",
      "Tehran\n",
      "Isfahan\n",
      "31\n",
      "------------------------------\n",
      "city1=Tehran\n",
      "city2=Isfahan\n",
      "num=31\n"
     ]
    }
   ],
   "source": [
    "#dict and for\n",
    "\n",
    "cities={\n",
    "    \"city1\": \"Tehran\",\n",
    "    \"city2\": \"Isfahan\",\n",
    "    \"num\": 31\n",
    "}\n",
    "\n",
    "\n",
    "for key in cities.keys():\n",
    "    print(key)\n",
    "\n",
    "print(\"------------------------------\")\n",
    "\n",
    "for value in cities.values():\n",
    "    print(value)\n",
    "\n",
    "print(\"------------------------------\")\n",
    "\n",
    "for key, value in cities.items():\n",
    "    print(f\"{key}={value}\")"
   ]
  },
  {
   "cell_type": "code",
   "execution_count": 10,
   "id": "1659e2b8",
   "metadata": {},
   "outputs": [
    {
     "name": "stdout",
     "output_type": "stream",
     "text": [
      "name=Alireza, age=17, city=Tehran\n",
      "------------------------------\n",
      "name=Ali, age=18, city=Shiraz\n",
      "------------------------------\n",
      "name=mohsen, age=18, city=Tehran\n",
      "------------------------------\n",
      "name=Ali, age=16, city=Yazd\n"
     ]
    }
   ],
   "source": [
    "#Argument\n",
    "\n",
    "def student_info(name, age=18, city=\"Tehran\"):\n",
    "    return f\"name={name}, age={age}, city={city}\"\n",
    "\n",
    "print(student_info(\"Alireza\", 17))\n",
    "\n",
    "print(\"------------------------------\")\n",
    "\n",
    "print(student_info(\"Ali\", 18, \"Shiraz\"))\n",
    "\n",
    "print(\"------------------------------\")\n",
    "\n",
    "print(student_info(\"mohsen\"))\n",
    "\n",
    "print(\"------------------------------\")\n",
    "\n",
    "print(student_info(city=\"Yazd\", name=\"Ali\", age=16))\n"
   ]
  },
  {
   "cell_type": "code",
   "execution_count": 11,
   "id": "151955b1",
   "metadata": {},
   "outputs": [
    {
     "name": "stdout",
     "output_type": "stream",
     "text": [
      "name=Reza, age=20, city=Karaj\n",
      "name=Reza, age=20, city=Karaj\n"
     ]
    }
   ],
   "source": [
    "#args\n",
    "\n",
    "def student_info(name, age=18, city=\"Tehran\"):\n",
    "    return f\"name={name}, age={age}, city={city}\"\n",
    "\n",
    "s1=(\"Reza\", 20, \"Karaj\")\n",
    "print(student_info(s1[0], s1[1], s1[2]))\n",
    "print(student_info(*s1))"
   ]
  },
  {
   "cell_type": "code",
   "execution_count": 13,
   "id": "7c45d478",
   "metadata": {},
   "outputs": [
    {
     "name": "stdout",
     "output_type": "stream",
     "text": [
      "name=Reza, age=20, city=Karaj\n",
      "name=Reza, age=20, city=Karaj\n"
     ]
    }
   ],
   "source": [
    "#kwargs\n",
    "\n",
    "def student_info(name, age=18, city=\"Tehran\"):\n",
    "    return f\"name={name}, age={age}, city={city}\"\n",
    "\n",
    "s1 = {\"name\": \"Reza\", \"age\": 20, \"city\": \"Karaj\"}\n",
    "print(student_info(s1[\"name\"], s1[\"age\"], s1[\"city\"]))\n",
    "print(student_info(**s1))"
   ]
  },
  {
   "cell_type": "code",
   "execution_count": 14,
   "id": "361f043b",
   "metadata": {},
   "outputs": [
    {
     "name": "stdout",
     "output_type": "stream",
     "text": [
      "name=Mohammad, avg=16.0\n"
     ]
    }
   ],
   "source": [
    "#args\n",
    "\n",
    "def student_info(name, *args):\n",
    "    sum_ = sum(args)\n",
    "    return f\"name={name}, avg={sum_/len(args)}\"\n",
    "\n",
    "\n",
    "\n",
    "print(student_info(\"Mohammad\", 14, 15, 19, 12, 20))"
   ]
  },
  {
   "cell_type": "code",
   "execution_count": 16,
   "id": "8a78fa6f",
   "metadata": {},
   "outputs": [
    {
     "name": "stdout",
     "output_type": "stream",
     "text": [
      "Ahmad\n",
      "age=19\n",
      "city=Bandar abbas\n",
      "None\n"
     ]
    }
   ],
   "source": [
    "#kwargs\n",
    "\n",
    "def student_info(name, **kwargs):\n",
    "    print(name)\n",
    "    for key, value in kwargs.items():\n",
    "        print(f\"{key}={value}\")\n",
    "\n",
    "\n",
    "s1 = student_info(\"Ahmad\", age=19, city=\"Bandar abbas\")\n",
    "\n",
    "print(s1)"
   ]
  },
  {
   "cell_type": "code",
   "execution_count": 17,
   "id": "314e808b",
   "metadata": {},
   "outputs": [
    {
     "name": "stdout",
     "output_type": "stream",
     "text": [
      "8\n",
      "9\n",
      "------------------------------\n",
      "8\n",
      "8\n"
     ]
    }
   ],
   "source": [
    "#positional and keyword\n",
    "\n",
    "def power(a, b):\n",
    "    return a**b\n",
    "\n",
    "print(power(2,3))       #positional\n",
    "print(power(3,2))       #positional\n",
    "\n",
    "print(\"------------------------------\")\n",
    "\n",
    "print(power(a=2,b=3))       #keyword\n",
    "print(power(b=3, a=2))      #keyword"
   ]
  }
 ],
 "metadata": {
  "kernelspec": {
   "display_name": "Python 3",
   "language": "python",
   "name": "python3"
  },
  "language_info": {
   "codemirror_mode": {
    "name": "ipython",
    "version": 3
   },
   "file_extension": ".py",
   "mimetype": "text/x-python",
   "name": "python",
   "nbconvert_exporter": "python",
   "pygments_lexer": "ipython3",
   "version": "3.12.4"
  }
 },
 "nbformat": 4,
 "nbformat_minor": 5
}
